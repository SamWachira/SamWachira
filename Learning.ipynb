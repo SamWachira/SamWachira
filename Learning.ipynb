{
  "nbformat": 4,
  "nbformat_minor": 0,
  "metadata": {
    "colab": {
      "name": "Untitled6.ipynb",
      "provenance": [],
      "authorship_tag": "ABX9TyMS303hfFty6Z6/tV2oU4ol"
    },
    "kernelspec": {
      "name": "python3",
      "display_name": "Python 3"
    },
    "language_info": {
      "name": "python"
    }
  },
  "cells": [
    {
      "cell_type": "code",
      "execution_count": 3,
      "metadata": {
        "colab": {
          "base_uri": "https://localhost:8080/"
        },
        "id": "iWYxkIfcm7so",
        "outputId": "83d35af1-8bb0-4da5-f911-de8043a9c810"
      },
      "outputs": [
        {
          "output_type": "stream",
          "name": "stdout",
          "text": [
            "Classification Report\n",
            "              precision    recall  f1-score   support\n",
            "\n",
            "         ham       0.67      1.00      0.80         2\n",
            "        spam       1.00      0.67      0.80         3\n",
            "\n",
            "    accuracy                           0.80         5\n",
            "   macro avg       0.83      0.83      0.80         5\n",
            "weighted avg       0.87      0.80      0.80         5\n",
            "\n"
          ]
        }
      ],
      "source": [
        "from sklearn.metrics import classification_report\n",
        "y_test = [1, 1, 2, 2, 2]\n",
        "pred_lm = [1, 1, 2, 2, 1]\n",
        "print('Classification Report')\n",
        "print(classification_report(y_test, pred_lm, target_names=['ham', 'spam']))\n"
      ]
    },
    {
      "cell_type": "code",
      "source": [
        "def check_(lst):\n",
        "  for i in range (len(lst)-1):\n",
        "    if lst[i] >= lst[i+1]:\n",
        "      output ='yes, descending'\n",
        "    elif lst[i] <= lst[i+1]:\n",
        "      output = 'yes, ascending'\n",
        "    else:\n",
        "      output = 'No!'\n",
        "  return output\n",
        "check_([9,3,4,7,1,8,11])"
      ],
      "metadata": {
        "colab": {
          "base_uri": "https://localhost:8080/",
          "height": 36
        },
        "id": "mirLAsuSAG2S",
        "outputId": "e3a28f7d-6cee-44ea-f293-ddb781661a4f"
      },
      "execution_count": 19,
      "outputs": [
        {
          "output_type": "execute_result",
          "data": {
            "text/plain": [
              "'yes, ascending'"
            ],
            "application/vnd.google.colaboratory.intrinsic+json": {
              "type": "string"
            }
          },
          "metadata": {},
          "execution_count": 19
        }
      ]
    },
    {
      "cell_type": "code",
      "source": [
        "lst = [9,3,4,7,1,8,11]\n",
        "for i in range (len(lst)-1):\n",
        "  if lst[i]>= lst[i+1]:\n",
        "    print (lst[i], lst[i+1])"
      ],
      "metadata": {
        "colab": {
          "base_uri": "https://localhost:8080/"
        },
        "id": "JSREaIGLB0df",
        "outputId": "812b9348-a3d1-460d-fc8d-e0a51bd0a789"
      },
      "execution_count": 20,
      "outputs": [
        {
          "output_type": "stream",
          "name": "stdout",
          "text": [
            "9 3\n",
            "7 1\n"
          ]
        }
      ]
    },
    {
      "cell_type": "code",
      "source": [
        "lst2 = [0,1,2,3,5,6,7,8,9]\n",
        "def omi(lstt):\n",
        "  lst3=[]\n",
        "  for i in range (0,10):\n",
        "    lst3.append(i)\n",
        "  for i in lst3:\n",
        "    if i not in lstt:\n",
        "      output = i\n",
        "    # else:\n",
        "    #   output= 'No omission'\n",
        "  return output\n",
        "omi(lst2)"
      ],
      "metadata": {
        "colab": {
          "base_uri": "https://localhost:8080/"
        },
        "id": "4Vllos9AGvWp",
        "outputId": "54f80c65-d550-4282-c7af-3bb90c2b85c5"
      },
      "execution_count": 48,
      "outputs": [
        {
          "output_type": "execute_result",
          "data": {
            "text/plain": [
              "4"
            ]
          },
          "metadata": {},
          "execution_count": 48
        }
      ]
    },
    {
      "cell_type": "code",
      "source": [
        "lst3=[]\n",
        "for i in range (0,10):\n",
        "  lst3.append(i)\n",
        "print(lst3)"
      ],
      "metadata": {
        "colab": {
          "base_uri": "https://localhost:8080/"
        },
        "id": "QSaNqmlEMQcr",
        "outputId": "c8fb9776-48ba-4ca5-aac2-47062b3eec57"
      },
      "execution_count": 40,
      "outputs": [
        {
          "output_type": "stream",
          "name": "stdout",
          "text": [
            "[0, 1, 2, 3, 4, 5, 6, 7, 8, 9]\n"
          ]
        }
      ]
    }
  ]
}